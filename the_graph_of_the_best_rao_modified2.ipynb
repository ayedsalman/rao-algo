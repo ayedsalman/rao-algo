{
  "nbformat": 4,
  "nbformat_minor": 0,
  "metadata": {
    "colab": {
      "name": "the graph of the best-rao-modified2.ipynb",
      "provenance": [],
      "collapsed_sections": []
    },
    "kernelspec": {
      "name": "python3",
      "display_name": "Python 3"
    }
  },
  "cells": [
    {
      "cell_type": "code",
      "metadata": {
        "id": "BXVfTmCUjkwY"
      },
      "source": [
        "#libaraies \n",
        "import math\n",
        "import random\n",
        "import numpy as np\n",
        "import matplotlib.pyplot as plt\n",
        "import scipy.special as sps"
      ],
      "execution_count": 1,
      "outputs": []
    },
    {
      "cell_type": "code",
      "metadata": {
        "id": "bE0bUSvRms7H"
      },
      "source": [
        " #Global scope \n",
        " maxfes = 1000  # Maximum functions evaluation\n",
        " dim = 4  # Number of design variables\n",
        " SearchAgents_no = 5  # Population size\n",
        " Max_iter = math.floor(maxfes / SearchAgents_no)  # Maximum number of iterations\n",
        " lb = -5.12 * np.ones(dim)  # lower bound\n",
        " ub = 5.12 * np.ones(dim)  # upper bound"
      ],
      "execution_count": 42,
      "outputs": []
    },
    {
      "cell_type": "code",
      "metadata": {
        "id": "kGaOsHMCmwPN"
      },
      "source": [
        "#calculate fitness value \n",
        "def fitness(particle):\n",
        "    y = 0\n",
        "    for i in range(dim):\n",
        "      if y > 5.12 or y < -5.12:\n",
        "        y= y+ 10*i + 10*particle[i]**2 # the function   \n",
        "      else: y =y+ 10*i + particle[i] ** 2 - 10 * math.cos(2 * math.pi * particle[i])\n",
        "\n",
        "    return y"
      ],
      "execution_count": 43,
      "outputs": []
    },
    {
      "cell_type": "code",
      "metadata": {
        "id": "pfDsJ7Pbm0C8"
      },
      "source": [
        "def rao():\n",
        "\n",
        "  # initialzing arrays to store the values \n",
        " Positions = np.zeros((SearchAgents_no, dim))   # search agent position\n",
        " best_pos = np.zeros(dim)  # search agent's best position\n",
        " worst_pos = np.zeros(dim)  # search agent's worst position\n",
        "\n",
        " finval = np.zeros(Max_iter)  # best score of each iteration\n",
        " f1 = np.zeros(SearchAgents_no)  # function value of current population\n",
        " f2 = np.zeros(SearchAgents_no)  # function value of updated population\n",
        "\n",
        " \n",
        " for i in range(dim):\n",
        "    Positions[:, i] = np.random.uniform(0, 1, SearchAgents_no) * (ub[i] - lb[i]) + lb[i]\n",
        " for k in range(0, Max_iter):\n",
        "    best_score = float(\"inf\")\n",
        "    worst_score = float(\"-inf\")\n",
        "    for i in range(0, SearchAgents_no):\n",
        "        # Return back the search agents that go beyond the boundaries of the search space\n",
        "        for j in range(dim):\n",
        "            Positions[i, j] = np.clip(Positions[i, j], lb[j], ub[j])\n",
        "        f1[i] = fitness(Positions[i, :])\n",
        "        if f1[i] < best_score:\n",
        "            best_score = f1[i].copy()  # Update best\n",
        "            best_pos = Positions[i, :].copy()\n",
        "        if f1[i] > worst_score:\n",
        "            worst_score = f1[i].copy();  # Update worst\n",
        "            worst_pos = Positions[i, :].copy()\n",
        "    # Update the Position of search agents including omegas\n",
        "    finval[k] = best_score\n",
        "    #print(\"The best solution is: \", best_score, \" in iteration number: \", k + 1)\n",
        "    Positioncopy = Positions.copy()\n",
        "    for i in range(0, SearchAgents_no):\n",
        "        for j in range(0, dim):\n",
        "            r1 = random.random()  # r1 is a random number in [0,1]\n",
        "            Positions[i, j] = Positions[i, j] + r1 * (best_pos[j] - worst_pos[j])  # change in position\n",
        "            Positions[i, j] = np.clip(Positions[i, j], lb[j], ub[j])\n",
        "        f2[i] = fitness(Positions[i, :])\n",
        "    for i in range(0, SearchAgents_no):\n",
        "        if f1[i] < f2[i]:\n",
        "            Positions[i, :] = Positioncopy[i, :]\n",
        " best_score = np.amin(finval)\n",
        " #finval.append(best_score) \n",
        " #finval[Max_iter]=best_score\n",
        " #print(\"______\")\n",
        " #print(finval)\n",
        " #print(\"The final best from all iteration is: \", best_score)\n",
        " #print(\"_____\")\n",
        " #return best_score \n",
        " return np.append(finval,best_score)\n"
      ],
      "execution_count": 48,
      "outputs": []
    },
    {
      "cell_type": "code",
      "metadata": {
        "id": "bRceXU-bm4SL",
        "colab": {
          "base_uri": "https://localhost:8080/",
          "height": 517
        },
        "outputId": "1ea3595c-d693-45b3-d24b-edf77029f843"
      },
      "source": [
        "#the main \n",
        "\n",
        "tr = int(input('Enter the number of trials: '))\n",
        "best_arr = np.zeros((tr+1, Max_iter+1))\n",
        "for i in range(tr):\n",
        "  bestsc = rao()\n",
        "  #print(\"*********\")\n",
        "  #print(bestsc)\n",
        "  #print(\"The trial best is: \",  bestsc)\n",
        "  #print(\"----------------------------------: \")\n",
        "  best_arr[i]=bestsc;\n",
        "#print(best_arr)\n",
        "for k in range(0, Max_iter+1):\n",
        "  colm = best_arr[:,k]\n",
        "  best_arr[tr][k]= np.average(colm[1:tr])\n",
        "  #print(\"@@@@@\")\n",
        "  #print(best_arr[tr][k])\n",
        "  #print(\"@@@@@\")\n",
        "  #best_arr[tr][k] = np.apped(best_arr[tr][k],np.amin(colm)) \n",
        "print(best_arr)\n",
        "  \n",
        "  \n",
        "\n",
        " \n",
        "  \n",
        " \n",
        "plt.plot(best_arr[tr])\n",
        "plt.xlabel('iteration ')\n",
        "plt.ylabel('the best solution')\n",
        "plt.show()\n"
      ],
      "execution_count": 50,
      "outputs": [
        {
          "output_type": "stream",
          "text": [
            "Enter the number of trials: 10\n",
            "[[112.5835197  112.5835197  112.5835197  ...  50.47250989  47.43515114\n",
            "   47.43515114]\n",
            " [177.92982802 162.83900984 139.76379869 ...  35.87495914  35.87495913\n",
            "   35.87495913]\n",
            " [177.61470849 177.61470849  93.09011246 ...  24.90808264  24.90609814\n",
            "   24.90609814]\n",
            " ...\n",
            " [139.55160293 139.55160293  64.44119938 ...  39.38850612  39.38850612\n",
            "   39.38850612]\n",
            " [ 90.10015972  90.10015972  90.10015972 ...  24.88418822  24.88418822\n",
            "   24.88418822]\n",
            " [183.10683077 138.58553931 107.01886461 ...  33.9687138   33.96849324\n",
            "   33.96849324]]\n"
          ],
          "name": "stdout"
        },
        {
          "output_type": "display_data",
          "data": {
            "image/png": "[encoded data removed]",
            "text/plain": [
              "<Figure size 432x288 with 1 Axes>"
            ]
          },
          "metadata": {
            "tags": [],
            "needs_background": "light"
          }
        }
      ]
    }
  ]
}